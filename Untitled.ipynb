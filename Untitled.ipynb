{
 "cells": [
  {
   "cell_type": "code",
   "execution_count": 3,
   "id": "3b9d32a3-0f2a-48da-9dab-0c1bb31f2a86",
   "metadata": {},
   "outputs": [
    {
     "ename": "ModuleNotFoundError",
     "evalue": "No module named 'mediapipe'",
     "output_type": "error",
     "traceback": [
      "\u001b[1;31m---------------------------------------------------------------------------\u001b[0m",
      "\u001b[1;31mModuleNotFoundError\u001b[0m                       Traceback (most recent call last)",
      "Cell \u001b[1;32mIn[3], line 1\u001b[0m\n\u001b[1;32m----> 1\u001b[0m \u001b[38;5;28;01mimport\u001b[39;00m \u001b[38;5;21;01mmediapipe\u001b[39;00m \u001b[38;5;28;01mas\u001b[39;00m \u001b[38;5;21;01mmp\u001b[39;00m\n\u001b[0;32m      2\u001b[0m \u001b[38;5;28;01mimport\u001b[39;00m \u001b[38;5;21;01mcv2\u001b[39;00m\n\u001b[0;32m      3\u001b[0m \u001b[38;5;28;01mimport\u001b[39;00m \u001b[38;5;21;01mpydirectinput\u001b[39;00m\n",
      "\u001b[1;31mModuleNotFoundError\u001b[0m: No module named 'mediapipe'"
     ]
    }
   ],
   "source": [
    "import mediapipe as mp\n",
    "import cv2\n",
    "import pydirectinput"
   ]
  },
  {
   "cell_type": "code",
   "execution_count": 4,
   "id": "da98c990",
   "metadata": {},
   "outputs": [
    {
     "ename": "NameError",
     "evalue": "name 'mp' is not defined",
     "output_type": "error",
     "traceback": [
      "\u001b[1;31m---------------------------------------------------------------------------\u001b[0m",
      "\u001b[1;31mNameError\u001b[0m                                 Traceback (most recent call last)",
      "Cell \u001b[1;32mIn[4], line 1\u001b[0m\n\u001b[1;32m----> 1\u001b[0m mp_drawing\u001b[38;5;241m=\u001b[39m\u001b[43mmp\u001b[49m\u001b[38;5;241m.\u001b[39msolutions\u001b[38;5;241m.\u001b[39mdrawing_utils\n\u001b[0;32m      2\u001b[0m mp_holistic\u001b[38;5;241m=\u001b[39mmp\u001b[38;5;241m.\u001b[39msolutions\u001b[38;5;241m.\u001b[39mholistic\n\u001b[0;32m      3\u001b[0m mp_pose\u001b[38;5;241m=\u001b[39mmp\u001b[38;5;241m.\u001b[39msolutions\u001b[38;5;241m.\u001b[39mpose\n",
      "\u001b[1;31mNameError\u001b[0m: name 'mp' is not defined"
     ]
    }
   ],
   "source": [
    "mp_drawing=mp.solutions.drawing_utils\n",
    "mp_holistic=mp.solutions.holistic\n",
    "mp_pose=mp.solutions.pose\n"
   ]
  },
  {
   "cell_type": "code",
   "execution_count": 2,
   "id": "e165e424",
   "metadata": {},
   "outputs": [
    {
     "ename": "ModuleNotFoundError",
     "evalue": "No module named 'cv2'",
     "output_type": "error",
     "traceback": [
      "\u001b[1;31m---------------------------------------------------------------------------\u001b[0m",
      "\u001b[1;31mModuleNotFoundError\u001b[0m                       Traceback (most recent call last)",
      "Cell \u001b[1;32mIn[2], line 1\u001b[0m\n\u001b[1;32m----> 1\u001b[0m \u001b[38;5;28;01mimport\u001b[39;00m \u001b[38;5;21;01mcv2\u001b[39;00m\n\u001b[0;32m      2\u001b[0m \u001b[38;5;28;01mimport\u001b[39;00m \u001b[38;5;21;01mmediapipe\u001b[39;00m \u001b[38;5;28;01mas\u001b[39;00m \u001b[38;5;21;01mmp\u001b[39;00m\n\u001b[0;32m      3\u001b[0m \u001b[38;5;28;01mimport\u001b[39;00m \u001b[38;5;21;01mpydirectinput\u001b[39;00m\n",
      "\u001b[1;31mModuleNotFoundError\u001b[0m: No module named 'cv2'"
     ]
    }
   ],
   "source": [
    "import cv2\n",
    "import mediapipe as mp\n",
    "import pydirectinput\n",
    "\n",
    "# Initialize mediapipe utilities\n",
    "mp_drawing = mp.solutions.drawing_utils\n",
    "mp_holistic = mp.solutions.holistic\n",
    "mp_pose = mp.solutions.pose\n",
    "\n",
    "\n",
    "def initialize_camera(width=560, height=400):\n",
    "    \"\"\"Initialize the camera with specified resolution.\"\"\"\n",
    "    cap = cv2.VideoCapture(0)\n",
    "    cap.set(3, width)\n",
    "    cap.set(4, height)\n",
    "    return cap\n",
    "\n",
    "\n",
    "def process_frame(frame, holistic):\n",
    "    \"\"\"Process the frame and detect landmarks using mediapipe.\"\"\"\n",
    "    frame = cv2.flip(frame, 1)\n",
    "    frame_rgb = cv2.cvtColor(frame, cv2.COLOR_BGR2RGB)\n",
    "    results = holistic.process(frame_rgb)\n",
    "    frame = cv2.cvtColor(frame_rgb, cv2.COLOR_RGB2BGR)\n",
    "    return frame, results\n",
    "\n",
    "\n",
    "def detect_pose(results, width, height, y_mid):\n",
    "    \"\"\"Detect the pose based on hand positions.\"\"\"\n",
    "    try:\n",
    "        right_hand_y = results.pose_landmarks.landmark[mp_pose.PoseLandmark.LEFT_WRIST].y * height\n",
    "        left_hand_y = results.pose_landmarks.landmark[mp_pose.PoseLandmark.RIGHT_WRIST].y * height\n",
    "\n",
    "        if right_hand_y < y_mid:\n",
    "            pydirectinput.keyDown('right')\n",
    "            pydirectinput.keyUp('left')\n",
    "            return \"acc\"\n",
    "        elif right_hand_y > y_mid:\n",
    "            pydirectinput.keyDown('left')\n",
    "            pydirectinput.keyUp('right')\n",
    "            return \"break\"\n",
    "    except AttributeError:\n",
    "        pass\n",
    "    return \"move\"  # Default pose\n",
    "\n",
    "\n",
    "def display_pose(frame, pose, y_mid, width):\n",
    "    \"\"\"Display the pose and a middle line on the frame.\"\"\"\n",
    "    cv2.putText(frame, pose, (10, 30), cv2.FONT_HERSHEY_SIMPLEX, 1, (255, 255, 0), 2)\n",
    "    cv2.line(frame, (0, int(y_mid)), (width, int(y_mid)), (255, 0, 255), 2)\n",
    "    return frame\n",
    "\n",
    "\n",
    "def main():\n",
    "    \"\"\"Main function to run the Hill Climbing Racing game.\"\"\"\n",
    "    cap = initialize_camera()\n",
    "    with mp_holistic.Holistic(min_detection_confidence=0.5, min_tracking_confidence=0.5) as holistic:\n",
    "        while cap.isOpened():\n",
    "            success, frame = cap.read()\n",
    "            if not success:\n",
    "                break\n",
    "\n",
    "            height, width, _ = frame.shape\n",
    "            y_mid = height / 2\n",
    "\n",
    "            frame, results = process_frame(frame, holistic)\n",
    "            pose = detect_pose(results, width, height, y_mid)\n",
    "            frame = display_pose(frame, pose, y_mid, width)\n",
    "\n",
    "            cv2.imshow('HillClimbingGame', frame)\n",
    "            if cv2.waitKey(1) == ord('q'):\n",
    "                break\n",
    "\n",
    "    cap.release()\n",
    "    cv2.destroyAllWindows()\n",
    "\n",
    "\n",
    "if __name__ == \"__main__\":\n",
    "    main()\n"
   ]
  }
 ],
 "metadata": {
  "kernelspec": {
   "display_name": "Python 3",
   "language": "python",
   "name": "python3"
  },
  "language_info": {
   "codemirror_mode": {
    "name": "ipython",
    "version": 3
   },
   "file_extension": ".py",
   "mimetype": "text/x-python",
   "name": "python",
   "nbconvert_exporter": "python",
   "pygments_lexer": "ipython3",
   "version": "3.13.0"
  }
 },
 "nbformat": 4,
 "nbformat_minor": 5
}
